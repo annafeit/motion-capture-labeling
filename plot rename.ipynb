{
 "cells": [
  {
   "cell_type": "code",
   "execution_count": 1,
   "metadata": {},
   "outputs": [],
   "source": [
    "import os"
   ]
  },
  {
   "cell_type": "code",
   "execution_count": 9,
   "metadata": {
    "scrolled": true
   },
   "outputs": [
    {
     "data": {
      "text/plain": [
       "['test_5200.png',\n",
       " 'test_1700.png',\n",
       " 'test_600.png',\n",
       " 'test_3300.png',\n",
       " 'test_3100.png',\n",
       " 'test_400.png',\n",
       " 'test_4900.png',\n",
       " 'test_2800.png',\n",
       " 'test_5000.png',\n",
       " 'test_1500.png',\n",
       " 'test_5400.png',\n",
       " 'test_1100.png',\n",
       " 'test_3500.png',\n",
       " 'test_200.png',\n",
       " 'test_3700.png',\n",
       " 'test_5600.png',\n",
       " 'test_1300.png',\n",
       " 'test_4800.png',\n",
       " 'test_500.png',\n",
       " 'test_3000.png',\n",
       " 'test_1400.png',\n",
       " 'test_5100.png',\n",
       " 'test_2900.png',\n",
       " 'test_1600.png',\n",
       " 'test_5300.png',\n",
       " 'test_3200.png',\n",
       " 'test_700.png',\n",
       " 'test_3600.png',\n",
       " 'test_300.png',\n",
       " 'test_1200.png',\n",
       " 'test_5700.png',\n",
       " 'test_1000.png',\n",
       " 'test_5500.png',\n",
       " 'test_100.png',\n",
       " 'test_3400.png',\n",
       " 'test_3800.png',\n",
       " 'test_4000.png',\n",
       " 'test_2100.png',\n",
       " 'test_2300.png',\n",
       " 'test_4200.png',\n",
       " 'test_4600.png',\n",
       " 'test_2700.png',\n",
       " 'test_2500.png',\n",
       " 'test_1800.png',\n",
       " 'test_4400.png',\n",
       " 'test_900.png',\n",
       " 'test_2200.png',\n",
       " 'test_4300.png',\n",
       " 'test_5750.png',\n",
       " 'test_0.png',\n",
       " 'test_4100.png',\n",
       " 'test_3900.png',\n",
       " 'test_2000.png',\n",
       " 'test_1900.png',\n",
       " 'test_2400.png',\n",
       " 'test_800.png',\n",
       " 'test_4500.png',\n",
       " 'test_4700.png',\n",
       " 'test_2600.png']"
      ]
     },
     "execution_count": 9,
     "metadata": {},
     "output_type": "execute_result"
    }
   ],
   "source": [
    "def pad_zeros_to_filename(fn):\n",
    "    prefix, suffix = fn.split('_')\n",
    "    number, suffix = suffix.split('.')\n",
    "    while len(number) < 4:\n",
    "        number = '0{}'.format(number)\n",
    "    return \"{prefix}_{number}.{suffix}\".format(prefix=prefix, number=number, suffix=suffix)\n",
    "\n",
    "\n",
    "fn_original = [fn for fn in os.listdir('IMG') if fn.endswith('.png')]; fn_original\n",
    "\n",
    "for fn in fn_original:\n",
    "    os.rename(os.path.join('IMG',fn), os.path.join('IMG', pad_zeros_to_filename(fn)))"
   ]
  },
  {
   "cell_type": "code",
   "execution_count": 15,
   "metadata": {
    "scrolled": true
   },
   "outputs": [
    {
     "data": {
      "text/plain": [
       "['test_0000.png',\n",
       " 'test_0100.png',\n",
       " 'test_0200.png',\n",
       " 'test_0300.png',\n",
       " 'test_0400.png',\n",
       " 'test_0500.png',\n",
       " 'test_0600.png',\n",
       " 'test_0700.png',\n",
       " 'test_0800.png',\n",
       " 'test_0900.png',\n",
       " 'test_1000.png',\n",
       " 'test_1100.png',\n",
       " 'test_1200.png',\n",
       " 'test_1300.png',\n",
       " 'test_1400.png',\n",
       " 'test_1500.png',\n",
       " 'test_1600.png',\n",
       " 'test_1700.png',\n",
       " 'test_1800.png',\n",
       " 'test_1900.png',\n",
       " 'test_2000.png',\n",
       " 'test_2100.png',\n",
       " 'test_2200.png',\n",
       " 'test_2300.png',\n",
       " 'test_2400.png',\n",
       " 'test_2500.png',\n",
       " 'test_2600.png',\n",
       " 'test_2700.png',\n",
       " 'test_2800.png',\n",
       " 'test_2900.png',\n",
       " 'test_3000.png',\n",
       " 'test_3100.png',\n",
       " 'test_3200.png',\n",
       " 'test_3300.png',\n",
       " 'test_3400.png',\n",
       " 'test_3500.png',\n",
       " 'test_3600.png',\n",
       " 'test_3700.png',\n",
       " 'test_3800.png',\n",
       " 'test_3900.png',\n",
       " 'test_4000.png',\n",
       " 'test_4100.png',\n",
       " 'test_4200.png',\n",
       " 'test_4300.png',\n",
       " 'test_4400.png',\n",
       " 'test_4500.png',\n",
       " 'test_4600.png',\n",
       " 'test_4700.png',\n",
       " 'test_4800.png',\n",
       " 'test_4900.png',\n",
       " 'test_5000.png',\n",
       " 'test_5100.png',\n",
       " 'test_5200.png',\n",
       " 'test_5300.png',\n",
       " 'test_5400.png',\n",
       " 'test_5500.png',\n",
       " 'test_5600.png',\n",
       " 'test_5700.png',\n",
       " 'test_5750.png']"
      ]
     },
     "execution_count": 15,
     "metadata": {},
     "output_type": "execute_result"
    }
   ],
   "source": [
    "fn_renamed = sorted([fn for fn in os.listdir('IMG') if fn.endswith('.png')]); fn_renamed"
   ]
  },
  {
   "cell_type": "code",
   "execution_count": 19,
   "metadata": {},
   "outputs": [
    {
     "name": "stdout",
     "output_type": "stream",
     "text": [
      "IMG/test_0000.png\n",
      "IMG/test_0001.png\n",
      "IMG/test_0002.png\n",
      "IMG/test_0003.png\n",
      "IMG/test_0004.png\n",
      "IMG/test_0005.png\n",
      "IMG/test_0006.png\n",
      "IMG/test_0007.png\n",
      "IMG/test_0008.png\n",
      "IMG/test_0009.png\n",
      "IMG/test_0010.png\n",
      "IMG/test_0011.png\n",
      "IMG/test_0012.png\n",
      "IMG/test_0013.png\n",
      "IMG/test_0014.png\n",
      "IMG/test_0015.png\n",
      "IMG/test_0016.png\n",
      "IMG/test_0017.png\n",
      "IMG/test_0018.png\n",
      "IMG/test_0019.png\n",
      "IMG/test_0020.png\n",
      "IMG/test_0021.png\n",
      "IMG/test_0022.png\n",
      "IMG/test_0023.png\n",
      "IMG/test_0024.png\n",
      "IMG/test_0025.png\n",
      "IMG/test_0026.png\n",
      "IMG/test_0027.png\n",
      "IMG/test_0028.png\n",
      "IMG/test_0029.png\n",
      "IMG/test_0030.png\n",
      "IMG/test_0031.png\n",
      "IMG/test_0032.png\n",
      "IMG/test_0033.png\n",
      "IMG/test_0034.png\n",
      "IMG/test_0035.png\n",
      "IMG/test_0036.png\n",
      "IMG/test_0037.png\n",
      "IMG/test_0038.png\n",
      "IMG/test_0039.png\n",
      "IMG/test_0040.png\n",
      "IMG/test_0041.png\n",
      "IMG/test_0042.png\n",
      "IMG/test_0043.png\n",
      "IMG/test_0044.png\n",
      "IMG/test_0045.png\n",
      "IMG/test_0046.png\n",
      "IMG/test_0047.png\n",
      "IMG/test_0048.png\n",
      "IMG/test_0049.png\n",
      "IMG/test_0050.png\n",
      "IMG/test_0051.png\n",
      "IMG/test_0052.png\n",
      "IMG/test_0053.png\n",
      "IMG/test_0054.png\n",
      "IMG/test_0055.png\n",
      "IMG/test_0056.png\n",
      "IMG/test_0057.png\n",
      "IMG/test_0058.png\n"
     ]
    }
   ],
   "source": [
    "for i in range(len(fn_renamed)):\n",
    "    print(os.path.join('IMG', 'test_{:04d}.png'.format(i)))\n",
    "    os.rename(os.path.join('IMG',fn_renamed[i]), os.path.join('IMG', 'test_{:04d}.png'.format(i)))"
   ]
  },
  {
   "cell_type": "code",
   "execution_count": 17,
   "metadata": {},
   "outputs": [
    {
     "name": "stdout",
     "output_type": "stream",
     "text": [
      "\u001b[1m\u001b[36minitial\u001b[m\u001b[m/         test_{:04d}.png\r\n"
     ]
    }
   ],
   "source": [
    "%ls IMG"
   ]
  }
 ],
 "metadata": {
  "kernelspec": {
   "display_name": "Python 3",
   "language": "python",
   "name": "python3"
  },
  "language_info": {
   "codemirror_mode": {
    "name": "ipython",
    "version": 3
   },
   "file_extension": ".py",
   "mimetype": "text/x-python",
   "name": "python",
   "nbconvert_exporter": "python",
   "pygments_lexer": "ipython3",
   "version": "3.6.4"
  }
 },
 "nbformat": 4,
 "nbformat_minor": 2
}
